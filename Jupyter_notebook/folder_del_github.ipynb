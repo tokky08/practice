{
 "cells": [
  {
   "cell_type": "code",
   "execution_count": 1,
   "metadata": {},
   "outputs": [
    {
     "name": "stdout",
     "output_type": "stream",
     "text": [
      "Requirement already satisfied: selenium in /Users/tokitakazuhito/.pyenv/versions/anaconda3-2019.10/lib/python3.7/site-packages (3.141.0)\r\n",
      "Requirement already satisfied: urllib3 in /Users/tokitakazuhito/.pyenv/versions/anaconda3-2019.10/lib/python3.7/site-packages (from selenium) (1.24.2)\r\n"
     ]
    }
   ],
   "source": [
    "!pip install selenium\n",
    "\n",
    "from selenium import webdriver\n",
    "from selenium.webdriver.common.keys import Keys\n",
    "import time"
   ]
  },
  {
   "cell_type": "code",
   "execution_count": 3,
   "metadata": {},
   "outputs": [],
   "source": [
    "driver = webdriver.Chrome(\"driver/chromedriver\")\n",
    "\n",
    "time.sleep(1)\n",
    "\n",
    "driver.get(\"https://github.com/login?return_to=%2Ftokky08%2Fpractice%2Ftree%2Fmaster%2FFlask_practice%2Fvenv%2Flib%2Fpython3.7%2Fsite-packages\")\n",
    "\n",
    "\n",
    "time.sleep(1)\n",
    "# ログインIDを入力\n",
    "login_id = driver.find_element_by_name(\"login\")\n",
    "login_id.send_keys(\"ユーザ名\")\n",
    "time.sleep(1)\n",
    "# パスワードを入力\n",
    "password = driver.find_element_by_name(\"password\")\n",
    "password.send_keys(\"パスワード\")\n",
    "#ログインボタンをクリック\n",
    "login_btn = driver.find_element_by_name(\"commit\")\n",
    "login_btn.click()\n",
    "\n",
    "time.sleep(1)\n",
    "\n",
    "\n",
    "for i in range(100):\n",
    "    \n",
    "    time.sleep(1)\n",
    "    \n",
    "    try:\n",
    "        element = driver.find_element_by_xpath(\"/html/body/div[4]/div/main/div[2]/div/div[3]/div[3]/div/div[3]/div[2]/span/a\")\n",
    "        element.click()\n",
    "        time.sleep(1)\n",
    "        \n",
    "    except:\n",
    "        element = driver.find_element_by_xpath(\"/html/body/div[4]/div/main/div[2]/div/div[3]/div[3]/div/div[3]/div[2]/span/a\")\n",
    "        element.click()\n",
    "        time.sleep(1)\n",
    "\n",
    "     \n",
    "    if i == 0:\n",
    "        for _ in range(3):\n",
    "            element = driver.find_element_by_xpath(\"/html/body/div[4]/div/main/div[2]/div/div[3]/div[3]/div/div[3]/div[2]/span/a\")\n",
    "            element.click()\n",
    "            time.sleep(2)\n",
    "        \n",
    "\n",
    "    delete = driver.find_element_by_xpath(\"/html/body/div[4]/div/main/div[2]/div/div[3]/div[1]/div[2]/div[2]/form[2]/button\")\n",
    "    delete.click()\n",
    "\n",
    "    time.sleep(1)\n",
    "\n",
    "    commit = driver.find_element_by_xpath(\"/html/body/div[4]/div/main/div[2]/div/div/form/div[5]/button\")\n",
    "    commit.click()\n",
    "    \n",
    "\n",
    "driver.quit()"
   ]
  },
  {
   "cell_type": "code",
   "execution_count": null,
   "metadata": {},
   "outputs": [],
   "source": []
  }
 ],
 "metadata": {
  "kernelspec": {
   "display_name": "Python 3",
   "language": "python",
   "name": "python3"
  },
  "language_info": {
   "codemirror_mode": {
    "name": "ipython",
    "version": 3
   },
   "file_extension": ".py",
   "mimetype": "text/x-python",
   "name": "python",
   "nbconvert_exporter": "python",
   "pygments_lexer": "ipython3",
   "version": "3.7.4"
  }
 },
 "nbformat": 4,
 "nbformat_minor": 2
}
